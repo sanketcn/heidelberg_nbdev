{
 "cells": [
  {
   "cell_type": "code",
   "execution_count": null,
   "metadata": {},
   "outputs": [],
   "source": [
    "# default_exp core"
   ]
  },
  {
   "cell_type": "markdown",
   "metadata": {},
   "source": [
    "# Data Preparation\n",
    "\n",
    "> Prepare your data\n",
    "> Apply your tranformations"
   ]
  },
  {
   "cell_type": "markdown",
   "metadata": {},
   "source": [
    "### Import"
   ]
  },
  {
   "cell_type": "code",
   "execution_count": null,
   "metadata": {},
   "outputs": [],
   "source": [
    "import sagemaker\n",
    "import boto3\n",
    "import pandas as pd\n",
    "import io"
   ]
  },
  {
   "cell_type": "code",
   "execution_count": null,
   "metadata": {},
   "outputs": [],
   "source": [
    "LOCAL_DIR = 'data'"
   ]
  },
  {
   "cell_type": "markdown",
   "metadata": {},
   "source": [
    "### Input Raw Data S3 location"
   ]
  },
  {
   "cell_type": "code",
   "execution_count": null,
   "metadata": {},
   "outputs": [],
   "source": [
    "s3_bucket = sagemaker.Session().default_bucket()\n",
    "s3_input_prefix = 'heidelberg/data'\n",
    "s3_input_filename = 'data.csv'"
   ]
  },
  {
   "cell_type": "markdown",
   "metadata": {},
   "source": [
    "### Get dataframe from s3"
   ]
  },
  {
   "cell_type": "code",
   "execution_count": null,
   "metadata": {},
   "outputs": [],
   "source": [
    "s3 = boto3.resource('s3')\n",
    "obj = s3.Object(s3_bucket, s3_input_prefix+'/'+s3_input_filename)\n",
    "body = obj.get()['Body'].read()\n",
    "df=pd.read_csv(io.BytesIO(body))"
   ]
  },
  {
   "cell_type": "markdown",
   "metadata": {},
   "source": [
    "### transfrom column name if(invalid)"
   ]
  },
  {
   "cell_type": "code",
   "execution_count": null,
   "metadata": {},
   "outputs": [],
   "source": [
    "# input : old column name (string)\n",
    "# output : transformed column name (string)a\n",
    "\n",
    "def transform_column_name(column_name):\n",
    "    allowed_values = \"01234567890abcdefghijklmnopqrstuvwxyz\"\n",
    "    new_column_name = \"\"\n",
    "    column_name=column_name.lower()\n",
    "    count =0 \n",
    "    for i in column_name:\n",
    "        if i not in allowed_values:\n",
    "            if count==0:\n",
    "                continue\n",
    "            new_column_name = new_column_name + '_'\n",
    "            i='_'\n",
    "        else :\n",
    "            new_column_name = new_column_name + i\n",
    "        count=count+1\n",
    "        new_column_name = new_column_name[0:90]\n",
    "        \n",
    "    print (\"new_column_name : \",new_column_name)\n",
    "    return new_column_name"
   ]
  },
  {
   "cell_type": "markdown",
   "metadata": {},
   "source": [
    "### Inserting Unique Identifier column as id"
   ]
  },
  {
   "cell_type": "code",
   "execution_count": null,
   "metadata": {},
   "outputs": [],
   "source": [
    "l=len(df)\n",
    "df['id']= [  float(i) for i in range(1,l+1)]"
   ]
  },
  {
   "cell_type": "markdown",
   "metadata": {},
   "source": [
    "### Inserting timestamp"
   ]
  },
  {
   "cell_type": "code",
   "execution_count": null,
   "metadata": {},
   "outputs": [],
   "source": [
    "import datetime as dt\n",
    "import time\n",
    "import dateutil.parser as parser\n",
    "\n",
    "def generate_timestamps(n: int) -> list:\n",
    "    start = dt.datetime.strptime('2020-01-01 00:00:00', '%Y-%m-%d %H:%M:%S')\n",
    "    end = dt.datetime.strptime('2020-06-01 00:01:00', '%Y-%m-%d %H:%M:%S')\n",
    "    timestamps = list()\n",
    "    for _ in range(n):\n",
    "        timestamp = faker.date_time_between(start_date=start, end_date=end, tzinfo=None).strftime('%Y-%m-%d %H:%M:%S')\n",
    "        timestamps.append(timestamp)\n",
    "    timestamps = sorted(timestamps)\n",
    "    return timestamps\n",
    "\n",
    "df['event_time'] = [float(time.time())]*l"
   ]
  },
  {
   "cell_type": "markdown",
   "metadata": {},
   "source": [
    "### Move target column to start ( if you are using Xgboost)"
   ]
  },
  {
   "cell_type": "code",
   "execution_count": null,
   "metadata": {},
   "outputs": [],
   "source": [
    "df = df[ ['target'] + [ col for col in df.columns if col != 'target' ] ]"
   ]
  },
  {
   "cell_type": "markdown",
   "metadata": {},
   "source": [
    "### Drop unwanted columns"
   ]
  },
  {
   "cell_type": "code",
   "execution_count": null,
   "metadata": {},
   "outputs": [
    {
     "data": {
      "text/plain": [
       "['target',\n",
       " 'kst_brutto',\n",
       " 'sm',\n",
       " 'tm',\n",
       " 'cl',\n",
       " 'so3',\n",
       " 'k2o',\n",
       " 'na2o',\n",
       " 'south_kiln_feed_01om886__tph__avg',\n",
       " 'south_kiln_feed_01om886__tph__max',\n",
       " 'north_kiln_feed_01om885__tph__avg',\n",
       " 'north_kiln_feed_01om885__tph__max',\n",
       " 'north_fan_speed_01oa943__rpm__avg',\n",
       " 'north_fan_speed_01oa943__rpm__max',\n",
       " 'south_fan_speed_02oa943__rpm__avg',\n",
       " 'south_fan_speed_02oa943__rpm__max',\n",
       " 'lignite_main_burner_03sk820__tph__avg',\n",
       " 'lignite_main_burner_03sk820__tph__max',\n",
       " 'bpg_main_burner_03bf810__tph__avg',\n",
       " 'bpg_main_burner_03bf810__tph__max',\n",
       " 'lignite_calciner_02sk820__tph__avg',\n",
       " 'lignite_calciner_02sk820__tph__max',\n",
       " 'bpg_calciner_02bf810__tph__avg',\n",
       " 'bpg_calciner_02bf810__tph__max',\n",
       " 'kbs_calciner_00kb950__tph__avg',\n",
       " 'kbs_calciner_00kb950__tph__max',\n",
       " 'total_energy_to_main_burner__gj_h__avg_0',\n",
       " 'total_energy_to_main_burner__gj_h__max_0',\n",
       " 'total_energy_to_main_burner__gj_h__avg_1',\n",
       " 'total_energy_to_main_burner__gj_h__max_1',\n",
       " 'total_energy_to_main_burner__gj_h__avg_2',\n",
       " 'total_energy_to_main_burner__gj_h__max_2',\n",
       " 'total_energy_to_main_burner__gj_h__avg_3',\n",
       " 'total_energy_to_main_burner__gj_h__max_3',\n",
       " 'total_energy_to_calciner__gj_h__avg_0',\n",
       " 'total_energy_to_calciner__gj_h__max_0',\n",
       " 'total_energy_to_calciner__gj_h__avg_1',\n",
       " 'total_energy_to_calciner__gj_h__max_1',\n",
       " 'total_energy_to_calciner__gj_h__avg_2',\n",
       " 'total_energy_to_calciner__gj_h__max_2',\n",
       " 'total_energy_to_calciner__gj_h__avg_3',\n",
       " 'total_energy_to_calciner__gj_h__max_3',\n",
       " 'tf__traditional_fuel__avg',\n",
       " 'tf__traditional_fuel__max',\n",
       " 'af__alternative_fuel__avg',\n",
       " 'af__alternative_fuel__max',\n",
       " 'shc__gj__t_kiln_feed__avg',\n",
       " 'shc__gj__t_kiln_feed__max',\n",
       " 'nox_concentration_in_kiln_inlet_00oa983__ppm__avg_0',\n",
       " 'nox_concentration_in_kiln_inlet_00oa983__ppm__max_0',\n",
       " 'nox_concentration_in_kiln_inlet_00oa983__ppm__avg_1',\n",
       " 'nox_concentration_in_kiln_inlet_00oa983__ppm__max_1',\n",
       " 'nox_concentration_in_kiln_inlet_00oa983__ppm__avg_2',\n",
       " 'nox_concentration_in_kiln_inlet_00oa983__ppm__max_2',\n",
       " 'nox_concentration_in_kiln_inlet_00oa983__ppm__avg_3',\n",
       " 'nox_concentration_in_kiln_inlet_00oa983__ppm__max_3',\n",
       " 'co_concentration_in_kiln_inlet_00oa981__ppm__avg',\n",
       " 'co_concentration_in_kiln_inlet_00oa981__ppm__max',\n",
       " 'o2_concentration_in_kiln_inlet_00oa982_____avg',\n",
       " 'o2_concentration_in_kiln_inlet_00oa982_____max',\n",
       " 'bottom_cyclone_gas_temperature_00oa800___c___avg',\n",
       " 'bottom_cyclone_gas_temperature_00oa800___c___max',\n",
       " 'secondary_air_temperature_01kk827___c___avg_0',\n",
       " 'secondary_air_temperature_01kk827___c___max_0',\n",
       " 'secondary_air_temperature_01kk827___c___avg_1',\n",
       " 'secondary_air_temperature_01kk827___c___max_1',\n",
       " 'secondary_air_temperature_01kk827___c___avg_2',\n",
       " 'secondary_air_temperature_01kk827___c___max_2',\n",
       " 'secondary_air_temperature_01kk827___c___avg_3',\n",
       " 'secondary_air_temperature_01kk827___c___max_3',\n",
       " 'tertiary_air_temperature_01kb801___c___avg_0',\n",
       " 'tertiary_air_temperature_01kb801___c___max_0',\n",
       " 'tertiary_air_temperature_01kb801___c___avg_1',\n",
       " 'tertiary_air_temperature_01kb801___c___max_1',\n",
       " 'tertiary_air_temperature_01kb801___c___avg_2',\n",
       " 'tertiary_air_temperature_01kb801___c___max_2',\n",
       " 'tertiary_air_temperature_01kb801___c___avg_3',\n",
       " 'tertiary_air_temperature_01kb801___c___max_3',\n",
       " 'kiln_amps_01do812__amps__avg_0',\n",
       " 'kiln_amps_01do812__amps__max_0',\n",
       " 'kiln_amps_01do812__amps__avg_1',\n",
       " 'kiln_amps_01do812__amps__max_1',\n",
       " 'kiln_amps_01do812__amps__avg_2',\n",
       " 'kiln_amps_01do812__amps__max_2',\n",
       " 'kiln_amps_01do812__amps__avg_3',\n",
       " 'kiln_amps_01do812__amps__max_3',\n",
       " 'co_bottom_cyclone_north_00oa941__amps__avg',\n",
       " 'co_bottom_cyclone_north_00oa941__amps__max',\n",
       " 'o2_bottom_cyclone_north_00oa942_____avg_0',\n",
       " 'o2_bottom_cyclone_north_00oa942_____max_0',\n",
       " 'o2_bottom_cyclone_north_00oa942_____avg_1',\n",
       " 'o2_bottom_cyclone_north_00oa942_____max_1',\n",
       " 'o2_bottom_cyclone_north_00oa942_____avg_2',\n",
       " 'o2_bottom_cyclone_north_00oa942_____max_2',\n",
       " 'o2_bottom_cyclone_north_00oa942_____avg_3',\n",
       " 'o2_bottom_cyclone_north_00oa942_____max_3',\n",
       " 'kiln_speed_01do811__rpm__avg',\n",
       " 'kiln_speed_01do811__rpm__max',\n",
       " 'primary_air_amount_01of850__nm3_h___avg',\n",
       " 'primary_air_amount_01of850__nm3_h___max',\n",
       " 'axial_air_pressure_01of811__mbar__avg',\n",
       " 'axial_air_pressure_01of811__mbar__max',\n",
       " 'radial_air_pressure_01of812__mbar__avg',\n",
       " 'radial_air_pressure_01of812__mbar__max',\n",
       " 'central_air_pressure_01of813__mbar__avg',\n",
       " 'central_air_pressure_01of813__mbar__max',\n",
       " 'total_feed_avg',\n",
       " 'total_feed_max',\n",
       " 'total_energy_avg',\n",
       " 'total_energy_max',\n",
       " 'average_fan_speed_avg',\n",
       " 'average_fan_speed_max',\n",
       " 'average_air_temperature_avg',\n",
       " 'average_air_temperature_max',\n",
       " 'kiln_feed_rate_avg',\n",
       " 'kiln_feed_rate_max',\n",
       " 'klinker___nk_c3s_lag_shift',\n",
       " 'klinker___nk_mgo_lag_shift',\n",
       " 'klinker___nk_fe2o3_lag_shift',\n",
       " 'klinker___nk_al2o3_lag_shift',\n",
       " 'klinker___nk_na2o_lag_shift',\n",
       " 'klinker___nk_k2o_lag_shift',\n",
       " 'klinker___nk_cao_lag_shift',\n",
       " 'klinker___nk_sio2_lag_shift',\n",
       " 'heat_of_formation__kcal_kg_clinker__lag_shift',\n",
       " 'klinker___nk_so3_lag_shift',\n",
       " 'klinker___nk_sm_lag_shift',\n",
       " 'klinker___nk_am_lag_shift',\n",
       " 'klinker___nk_lsf_lag_shift',\n",
       " 'id',\n",
       " 'event_time']"
      ]
     },
     "execution_count": null,
     "metadata": {},
     "output_type": "execute_result"
    }
   ],
   "source": [
    "del df['is_outlier']\n",
    "list(df)"
   ]
  },
  {
   "cell_type": "code",
   "execution_count": null,
   "metadata": {},
   "outputs": [],
   "source": [
    "df.to_csv(f'{LOCAL_DIR}/test.csv', index=False)"
   ]
  },
  {
   "cell_type": "markdown",
   "metadata": {},
   "source": [
    "### Upload transfromed data to S3 bucket"
   ]
  },
  {
   "cell_type": "code",
   "execution_count": null,
   "metadata": {},
   "outputs": [
    {
     "name": "stdout",
     "output_type": "stream",
     "text": [
      "upload: data/test.csv to s3://sagemaker-us-east-1-082830052325/heidelberg/data/transformed.csv\n"
     ]
    }
   ],
   "source": [
    "!aws s3 cp {LOCAL_DIR}/test.csv s3://{s3_bucket}/{s3_input_prefix}/transformed.csv"
   ]
  },
  {
   "cell_type": "code",
   "execution_count": null,
   "metadata": {},
   "outputs": [],
   "source": [
    "!rm {LOCAL_DIR}/test.csv"
   ]
  },
  {
   "cell_type": "markdown",
   "metadata": {},
   "source": [
    "### (Optional) for Testing purpose"
   ]
  },
  {
   "cell_type": "code",
   "execution_count": null,
   "metadata": {},
   "outputs": [],
   "source": [
    "def check():\n",
    "    transformed_path = 'heidelberg/data/transfomed.csv'\n",
    "    s3 = boto3.resource('s3')\n",
    "    obj = s3.Object(s3_bucket, transformed_path)\n",
    "    body = obj.get()['Body'].read()\n",
    "    df=pd.read_csv(io.BytesIO(body))\n",
    "    df.drop(df.filter(regex=\"Unname\"),axis=1, inplace=True)"
   ]
  }
 ],
 "metadata": {
  "kernelspec": {
   "display_name": "Python 3 (Data Science)",
   "language": "python",
   "name": "python3__SAGEMAKER_INTERNAL__arn:aws:sagemaker:us-east-1:081325390199:image/datascience-1.0"
  }
 },
 "nbformat": 4,
 "nbformat_minor": 4
}
