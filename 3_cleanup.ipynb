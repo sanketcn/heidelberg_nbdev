{
 "cells": [
  {
   "cell_type": "code",
   "execution_count": null,
   "metadata": {},
   "outputs": [],
   "source": [
    "# default_exp core"
   ]
  },
  {
   "cell_type": "markdown",
   "metadata": {},
   "source": [
    "# Cleanup\n",
    "> This notebook is provided to help you clean up any resources you have created by running through the example. You should also go to the [CloudFormation console](https://console.aws.amazon.com/cloudformation/home) and delete the stack that you created."
   ]
  },
  {
   "cell_type": "code",
   "execution_count": null,
   "metadata": {},
   "outputs": [],
   "source": [
    "from sagemaker import get_execution_role\n",
    "import sagemaker\n",
    "import boto3\n",
    "import json\n",
    "import sys\n",
    "\n",
    "role = get_execution_role()\n",
    "sm = boto3.Session().client(service_name='sagemaker')"
   ]
  },
  {
   "cell_type": "markdown",
   "metadata": {},
   "source": [
    "### Delete feature groups"
   ]
  },
  {
   "cell_type": "code",
   "execution_count": null,
   "metadata": {},
   "outputs": [
    {
     "name": "stdout",
     "output_type": "stream",
     "text": [
      "deleted heidelberg-mlops-fg\n"
     ]
    }
   ],
   "source": [
    "%store -r\n",
    "try:\n",
    "    sm.delete_feature_group(FeatureGroupName=fg_name) \n",
    "    print('deleted '+fg_name)\n",
    "except:\n",
    "    pass"
   ]
  },
  {
   "cell_type": "code",
   "execution_count": null,
   "metadata": {},
   "outputs": [
    {
     "data": {
      "text/plain": [
       "{'FeatureGroupSummaries': [{'FeatureGroupName': 'transaction-feature-group-15-05-22-59',\n",
       "   'FeatureGroupArn': 'arn:aws:sagemaker:us-east-1:082830052325:feature-group/transaction-feature-group-15-05-22-59',\n",
       "   'CreationTime': datetime.datetime(2020, 12, 15, 5, 23, 10, 113000, tzinfo=tzlocal()),\n",
       "   'FeatureGroupStatus': 'Created',\n",
       "   'OfflineStoreStatus': {'Status': 'Active'}},\n",
       "  {'FeatureGroupName': 'ml-ops-2',\n",
       "   'FeatureGroupArn': 'arn:aws:sagemaker:us-east-1:082830052325:feature-group/ml-ops-2',\n",
       "   'CreationTime': datetime.datetime(2020, 12, 19, 6, 49, 19, 335000, tzinfo=tzlocal()),\n",
       "   'FeatureGroupStatus': 'Created'},\n",
       "  {'FeatureGroupName': 'ml-ops-1',\n",
       "   'FeatureGroupArn': 'arn:aws:sagemaker:us-east-1:082830052325:feature-group/ml-ops-1',\n",
       "   'CreationTime': datetime.datetime(2020, 12, 18, 7, 7, 15, 38000, tzinfo=tzlocal()),\n",
       "   'FeatureGroupStatus': 'Created'},\n",
       "  {'FeatureGroupName': 'identity-feature-group-15-05-22-59',\n",
       "   'FeatureGroupArn': 'arn:aws:sagemaker:us-east-1:082830052325:feature-group/identity-feature-group-15-05-22-59',\n",
       "   'CreationTime': datetime.datetime(2020, 12, 15, 5, 23, 7, 513000, tzinfo=tzlocal()),\n",
       "   'FeatureGroupStatus': 'Created',\n",
       "   'OfflineStoreStatus': {'Status': 'Active'}},\n",
       "  {'FeatureGroupName': 'heidelberg-mlops-fg-test1',\n",
       "   'FeatureGroupArn': 'arn:aws:sagemaker:us-east-1:082830052325:feature-group/heidelberg-mlops-fg-test1',\n",
       "   'CreationTime': datetime.datetime(2020, 12, 30, 6, 41, 36, 615000, tzinfo=tzlocal()),\n",
       "   'FeatureGroupStatus': 'Created'},\n",
       "  {'FeatureGroupName': 'heidelberg-mlops-fg',\n",
       "   'FeatureGroupArn': 'arn:aws:sagemaker:us-east-1:082830052325:feature-group/heidelberg-mlops-fg',\n",
       "   'CreationTime': datetime.datetime(2021, 1, 5, 17, 49, 57, 235000, tzinfo=tzlocal()),\n",
       "   'FeatureGroupStatus': 'Deleting',\n",
       "   'OfflineStoreStatus': {'Status': 'Active'}},\n",
       "  {'FeatureGroupName': 'heidelberg-fg-test2',\n",
       "   'FeatureGroupArn': 'arn:aws:sagemaker:us-east-1:082830052325:feature-group/heidelberg-fg-test2',\n",
       "   'CreationTime': datetime.datetime(2020, 12, 29, 9, 18, 2, 298000, tzinfo=tzlocal()),\n",
       "   'FeatureGroupStatus': 'Created'},\n",
       "  {'FeatureGroupName': 'heidelberg-fg-test',\n",
       "   'FeatureGroupArn': 'arn:aws:sagemaker:us-east-1:082830052325:feature-group/heidelberg-fg-test',\n",
       "   'CreationTime': datetime.datetime(2020, 12, 29, 8, 57, 48, 782000, tzinfo=tzlocal()),\n",
       "   'FeatureGroupStatus': 'Created'},\n",
       "  {'FeatureGroupName': 'demo-feature-group-2',\n",
       "   'FeatureGroupArn': 'arn:aws:sagemaker:us-east-1:082830052325:feature-group/demo-feature-group-2',\n",
       "   'CreationTime': datetime.datetime(2020, 12, 29, 4, 56, 13, 540000, tzinfo=tzlocal()),\n",
       "   'FeatureGroupStatus': 'Created'},\n",
       "  {'FeatureGroupName': 'demo-feature-group',\n",
       "   'FeatureGroupArn': 'arn:aws:sagemaker:us-east-1:082830052325:feature-group/demo-feature-group',\n",
       "   'CreationTime': datetime.datetime(2020, 12, 28, 6, 17, 12, 601000, tzinfo=tzlocal()),\n",
       "   'FeatureGroupStatus': 'Created'}],\n",
       " 'NextToken': 'cIws2QhTXUIa8bi8XYNGwqMND6lavWZ6uZcw9539cUOD10M54amsd7l7yk4ucGW0YBYA+27e3qBpT0v/9eeXaZHI0OynQP0MGWxQIEMxEgPAFTlgHQc4BCc2dClH5/oyLuP4y3HU1Uc+hOt7PjxjfX85eToHqu60szYdvyQww5AIcHO98C+c6aArPfKWA9At4vupqSH+tFFjELqIHIc4VppahmW2c4V08+Ih3icbhVTdkJqtxW32ij3UaIEmXVj2ewAC85aPdqMp6PHmaua2EO6cdfewvaM4/TDk1kXkJblj4Un+QvQlTqL5q5HpO1LGfU5HIKxZNaoe3bC/szFmTTELP1QnIafcIPijnSvnTmHuytOw/Nk8pEhlABQ8yNBEQvy6Rh0cwxasIJdvzO/THM/8QwFTHXtTwp24StY+widOwWlh0SqGCdR/8UxYEFQEUZ3t4fi08RtBh8aQeWYadbd8IwJv6rLl4yUhEZM4KKxVoHI/B5Ge/Sg4Lf3Pq9wK3nS3QowfTbCLYj8CLs6tfvTfAQ==',\n",
       " 'ResponseMetadata': {'RequestId': 'ae9c6043-c054-4b4d-93e1-4bd299a61749',\n",
       "  'HTTPStatusCode': 200,\n",
       "  'HTTPHeaders': {'x-amzn-requestid': 'ae9c6043-c054-4b4d-93e1-4bd299a61749',\n",
       "   'content-type': 'application/x-amz-json-1.1',\n",
       "   'content-length': '2747',\n",
       "   'date': 'Tue, 05 Jan 2021 18:13:27 GMT'},\n",
       "  'RetryAttempts': 0}}"
      ]
     },
     "execution_count": null,
     "metadata": {},
     "output_type": "execute_result"
    }
   ],
   "source": [
    "sm.list_feature_groups()"
   ]
  },
  {
   "cell_type": "markdown",
   "metadata": {},
   "source": [
    "### Stop the KDA SQL App"
   ]
  },
  {
   "cell_type": "code",
   "execution_count": null,
   "metadata": {},
   "outputs": [
    {
     "name": "stdout",
     "output_type": "stream",
     "text": [
      "Stopped the KDA SQL app\n"
     ]
    }
   ],
   "source": [
    "%store -r\n",
    "import boto3\n",
    "kda_client = boto3.client('kinesisanalytics')\n",
    "\n",
    "try:\n",
    "    kda_client.stop_application(ApplicationName=APPLICATION_NAME)\n",
    "except:\n",
    "    pass\n",
    "\n",
    "print('Stopped the KDA SQL app')"
   ]
  },
  {
   "cell_type": "markdown",
   "metadata": {},
   "source": [
    "### Delete the KDA SQL App"
   ]
  },
  {
   "cell_type": "code",
   "execution_count": null,
   "metadata": {},
   "outputs": [
    {
     "name": "stdout",
     "output_type": "stream",
     "text": [
      "Waiting for KDA SQL app to be ready for deletion...\n",
      "Deleted KDA SQL app\n"
     ]
    }
   ],
   "source": [
    "import time\n",
    "%store -r \n",
    "\n",
    "try:\n",
    "    ready = False\n",
    "    while not ready:\n",
    "        app_desc = kda_client.describe_application(ApplicationName=APPLICATION_NAME)['ApplicationDetail']\n",
    "        if app_desc['ApplicationStatus'] == 'READY':\n",
    "            ready = True\n",
    "        else:\n",
    "            print('Waiting for KDA SQL app to be ready for deletion...')\n",
    "            time.sleep(15)\n",
    "    create_timestamp = app_desc['CreateTimestamp']\n",
    "    response = kda_client.delete_application(ApplicationName=APPLICATION_NAME,\n",
    "                                  CreateTimestamp=create_timestamp)\n",
    "    print('Deleted KDA SQL app')\n",
    "except:\n",
    "    print('FAILED to delete KDA sql app')"
   ]
  },
  {
   "cell_type": "markdown",
   "metadata": {},
   "source": [
    "### Remove the trigger from Lambda"
   ]
  },
  {
   "cell_type": "code",
   "execution_count": null,
   "metadata": {},
   "outputs": [
    {
     "name": "stdout",
     "output_type": "stream",
     "text": [
      "Deleting mapping: 9974f2db-2d9a-4081-9e31-7cbb227ca548...\n"
     ]
    }
   ],
   "source": [
    "import boto3\n",
    "\n",
    "%store -r \n",
    "\n",
    "lambda_client = boto3.client('lambda')\n",
    "paginator = lambda_client.get_paginator('list_event_source_mappings')\n",
    "mapping_iterator = paginator.paginate(FunctionName=lambda_to_model_arn)\n",
    "\n",
    "for m in mapping_iterator:\n",
    "    if len(m['EventSourceMappings']) > 0:\n",
    "        uuid = m['EventSourceMappings'][0]['UUID']\n",
    "        print(f'Deleting mapping: {uuid}...')\n",
    "        lambda_client.delete_event_source_mapping(UUID=uuid)"
   ]
  },
  {
   "cell_type": "markdown",
   "metadata": {},
   "source": [
    "### Delete the Kinesis data stream"
   ]
  },
  {
   "cell_type": "code",
   "execution_count": null,
   "metadata": {},
   "outputs": [
    {
     "name": "stdout",
     "output_type": "stream",
     "text": [
      "deleted Kinesis stream\n"
     ]
    }
   ],
   "source": [
    "%store -r\n",
    "kinesis_client = boto3.client('kinesis')\n",
    "try:\n",
    "    kinesis_client.delete_stream(StreamName=STREAM_NAME)\n",
    "except:\n",
    "    pass\n",
    "print('deleted Kinesis stream')"
   ]
  },
  {
   "cell_type": "markdown",
   "metadata": {},
   "source": [
    "### Delete the SageMaker endpoint"
   ]
  },
  {
   "cell_type": "code",
   "execution_count": null,
   "metadata": {},
   "outputs": [],
   "source": [
    "%store -r\n",
    "#endpoint_name=\"sagemaker-xgboost-2020-12-23-06-52-57-726\"\n",
    "try:\n",
    "    sm.delete_endpoint(EndpointName=endpoint_name)\n",
    "except:\n",
    "    print(\"yes\")\n",
    "    pass"
   ]
  }
 ],
 "metadata": {
  "kernelspec": {
   "display_name": "Python 3 (Data Science)",
   "language": "python",
   "name": "python3__SAGEMAKER_INTERNAL__arn:aws:sagemaker:us-east-1:081325390199:image/datascience-1.0"
  }
 },
 "nbformat": 4,
 "nbformat_minor": 4
}
